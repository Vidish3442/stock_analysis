{
 "cells": [
  {
   "cell_type": "code",
   "execution_count": null,
   "id": "d03f913b-a4d2-426e-b80b-c8b41b072790",
   "metadata": {},
   "outputs": [],
   "source": [
    "import pandas as pd\n",
    "import matplotlib.pyplot as plt\n",
    "import fireducks as fd"
   ]
  },
  {
   "cell_type": "code",
   "execution_count": null,
   "id": "e9db63e9-6fbd-421d-a5b6-07d24c4ac2df",
   "metadata": {},
   "outputs": [],
   "source": [
    "# Load dataset\n",
    "def load_data(filepath=\"data/stock_data.csv\"):\n",
    "    print(\"Loading stock data into FireDucks...\")\n",
    "    data = pd.read_csv(filepath, parse_dates=[\"date\"])\n",
    "    data.set_index(\"date\", inplace=True)\n",
    "    return fd.DataFrame(data)"
   ]
  },
  {
   "cell_type": "code",
   "execution_count": null,
   "id": "cb2df178-184f-4a09-a4d4-2b664a7bf4d2",
   "metadata": {},
   "outputs": [],
   "source": [
    "# Compute moving averages\n",
    "def compute_moving_averages(fd_data):\n",
    "    print(\"Computing moving averages...\")\n",
    "    fd_data[\"50_MA\"] = fd_data[\"close\"].rolling(50).mean()\n",
    "    fd_data[\"200_MA\"] = fd_data[\"close\"].rolling(200).mean()\n",
    "    return fd_data"
   ]
  },
  {
   "cell_type": "code",
   "execution_count": null,
   "id": "f2aca9a4-74d2-4814-b9a4-79ad8a01d36e",
   "metadata": {},
   "outputs": [],
   "source": [
    "# Visualize the stock trend\n",
    "def plot_stock_data(fd_data, name=\"AAL\"):\n",
    "    print(\"Plotting stock data...\")\n",
    "    plt.figure(figsize=(12,6))\n",
    "    plt.plot(fd_data.index, fd_data[\"close\"], label=\"Stock Price\", color=\"blue\")\n",
    "    plt.plot(fd_data.index, fd_data[\"50_MA\"], label=\"50-Day MA\", linestyle=\"dashed\")\n",
    "    plt.plot(fd_data.index, fd_data[\"200_MA\"], label=\"200-Day MA\", linestyle=\"dotted\")\n",
    "    plt.legend()\n",
    "    plt.title(f\"{name} Stock Price with Moving Averages\")\n",
    "    plt.show()"
   ]
  },
  {
   "cell_type": "code",
   "execution_count": null,
   "id": "33ea0f99-fa60-4415-826b-d435ce2ba2af",
   "metadata": {},
   "outputs": [],
   "source": [
    "# Run analysis\n",
    "fd_data = load_data()\n",
    "fd_data = compute_moving_averages(fd_data)\n",
    "plot_stock_data(fd_data)\n",
    "print(\"Analysis Complete!\")"
   ]
  },
  {
   "cell_type": "code",
   "execution_count": null,
   "id": "2fd6837b-bce3-471d-a9dd-81c77e2232eb",
   "metadata": {},
   "outputs": [],
   "source": []
  },
  {
   "cell_type": "code",
   "execution_count": null,
   "id": "4f1e59b0-6092-491b-bb2e-d3fcd97c43d5",
   "metadata": {},
   "outputs": [],
   "source": []
  }
 ],
 "metadata": {
  "kernelspec": {
   "display_name": "Python [conda env:base] *",
   "language": "python",
   "name": "conda-base-py"
  },
  "language_info": {
   "codemirror_mode": {
    "name": "ipython",
    "version": 3
   },
   "file_extension": ".py",
   "mimetype": "text/x-python",
   "name": "python",
   "nbconvert_exporter": "python",
   "pygments_lexer": "ipython3",
   "version": "3.12.7"
  }
 },
 "nbformat": 4,
 "nbformat_minor": 5
}
